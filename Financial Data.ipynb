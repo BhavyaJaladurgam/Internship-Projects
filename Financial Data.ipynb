{
 "cells": [
  {
   "cell_type": "markdown",
   "id": "8213a043-f479-424b-990b-8d2b279eb5ed",
   "metadata": {},
   "source": [
    "# Importing the Libraries"
   ]
  },
  {
   "cell_type": "code",
   "execution_count": 1,
   "id": "c3d84774-4107-43c5-9c7f-70a4c5b74c8f",
   "metadata": {},
   "outputs": [],
   "source": [
    "import pandas as pd\n",
    "import matplotlib.pyplot as plt\n",
    "import seaborn as sns\n"
   ]
  },
  {
   "cell_type": "markdown",
   "id": "59512f5f-b29d-4b7b-a512-aab3896a06c0",
   "metadata": {},
   "source": [
    "# Loading the dataset"
   ]
  },
  {
   "cell_type": "code",
   "execution_count": 2,
   "id": "99cb0320-dc9f-4cd9-a440-a2331625e246",
   "metadata": {},
   "outputs": [],
   "source": [
    "df= pd.read_csv(\"Financial Analytics data.csv\")a"
   ]
  },
  {
   "cell_type": "code",
   "execution_count": 3,
   "id": "4cb843f6-05f5-4769-80db-06a8c70df1f3",
   "metadata": {},
   "outputs": [
    {
     "data": {
      "text/html": [
       "<div>\n",
       "<style scoped>\n",
       "    .dataframe tbody tr th:only-of-type {\n",
       "        vertical-align: middle;\n",
       "    }\n",
       "\n",
       "    .dataframe tbody tr th {\n",
       "        vertical-align: top;\n",
       "    }\n",
       "\n",
       "    .dataframe thead th {\n",
       "        text-align: right;\n",
       "    }\n",
       "</style>\n",
       "<table border=\"1\" class=\"dataframe\">\n",
       "  <thead>\n",
       "    <tr style=\"text-align: right;\">\n",
       "      <th></th>\n",
       "      <th>S.No.</th>\n",
       "      <th>Name</th>\n",
       "      <th>Mar Cap - Crore</th>\n",
       "      <th>Sales Qtr - Crore</th>\n",
       "      <th>Unnamed: 4</th>\n",
       "    </tr>\n",
       "  </thead>\n",
       "  <tbody>\n",
       "    <tr>\n",
       "      <th>0</th>\n",
       "      <td>1</td>\n",
       "      <td>Reliance Inds.</td>\n",
       "      <td>583436.72</td>\n",
       "      <td>99810.00</td>\n",
       "      <td>NaN</td>\n",
       "    </tr>\n",
       "    <tr>\n",
       "      <th>1</th>\n",
       "      <td>2</td>\n",
       "      <td>TCS</td>\n",
       "      <td>563709.84</td>\n",
       "      <td>30904.00</td>\n",
       "      <td>NaN</td>\n",
       "    </tr>\n",
       "    <tr>\n",
       "      <th>2</th>\n",
       "      <td>3</td>\n",
       "      <td>HDFC Bank</td>\n",
       "      <td>482953.59</td>\n",
       "      <td>20581.27</td>\n",
       "      <td>NaN</td>\n",
       "    </tr>\n",
       "    <tr>\n",
       "      <th>3</th>\n",
       "      <td>4</td>\n",
       "      <td>ITC</td>\n",
       "      <td>320985.27</td>\n",
       "      <td>9772.02</td>\n",
       "      <td>NaN</td>\n",
       "    </tr>\n",
       "    <tr>\n",
       "      <th>4</th>\n",
       "      <td>5</td>\n",
       "      <td>H D F C</td>\n",
       "      <td>289497.37</td>\n",
       "      <td>16840.51</td>\n",
       "      <td>NaN</td>\n",
       "    </tr>\n",
       "  </tbody>\n",
       "</table>\n",
       "</div>"
      ],
      "text/plain": [
       "   S.No.            Name  Mar Cap - Crore  Sales Qtr - Crore  Unnamed: 4\n",
       "0      1  Reliance Inds.        583436.72           99810.00         NaN\n",
       "1      2             TCS        563709.84           30904.00         NaN\n",
       "2      3       HDFC Bank        482953.59           20581.27         NaN\n",
       "3      4             ITC        320985.27            9772.02         NaN\n",
       "4      5         H D F C        289497.37           16840.51         NaN"
      ]
     },
     "execution_count": 3,
     "metadata": {},
     "output_type": "execute_result"
    }
   ],
   "source": [
    "df.head()"
   ]
  },
  {
   "cell_type": "markdown",
   "id": "642e1d99-35f0-4d6f-9b9b-34e9d4263cac",
   "metadata": {},
   "source": [
    "#  Explore Data"
   ]
  },
  {
   "cell_type": "code",
   "execution_count": 4,
   "id": "c2844eb4-b155-4abd-9bec-fad890608eeb",
   "metadata": {},
   "outputs": [
    {
     "name": "stdout",
     "output_type": "stream",
     "text": [
      "   S.No.            Name  Mar Cap - Crore  Sales Qtr - Crore  Unnamed: 4\n",
      "0      1  Reliance Inds.        583436.72           99810.00         NaN\n",
      "1      2             TCS        563709.84           30904.00         NaN\n",
      "2      3       HDFC Bank        482953.59           20581.27         NaN\n",
      "3      4             ITC        320985.27            9772.02         NaN\n",
      "4      5         H D F C        289497.37           16840.51         NaN\n"
     ]
    }
   ],
   "source": [
    "# Display the first few rows of the dataset\n",
    "print(df.head())\n",
    "\n",
    "\n",
    "\n",
    "\n",
    "\n"
   ]
  },
  {
   "cell_type": "code",
   "execution_count": 5,
   "id": "46514f7f-0a05-4a67-b728-bd76a103224c",
   "metadata": {},
   "outputs": [
    {
     "name": "stdout",
     "output_type": "stream",
     "text": [
      "<class 'pandas.core.frame.DataFrame'>\n",
      "RangeIndex: 488 entries, 0 to 487\n",
      "Data columns (total 5 columns):\n",
      " #   Column             Non-Null Count  Dtype  \n",
      "---  ------             --------------  -----  \n",
      " 0   S.No.              488 non-null    int64  \n",
      " 1   Name               488 non-null    object \n",
      " 2   Mar Cap - Crore    479 non-null    float64\n",
      " 3   Sales Qtr - Crore  365 non-null    float64\n",
      " 4   Unnamed: 4         94 non-null     float64\n",
      "dtypes: float64(3), int64(1), object(1)\n",
      "memory usage: 19.2+ KB\n",
      "None\n"
     ]
    }
   ],
   "source": [
    "# Display the first few rows of the dataset\n",
    "print(df.info())"
   ]
  },
  {
   "cell_type": "markdown",
   "id": "4be69123-1c80-426a-9aee-8e530ba5ceba",
   "metadata": {},
   "source": [
    "# Data Cleaning\n",
    "\n"
   ]
  },
  {
   "cell_type": "code",
   "execution_count": 6,
   "id": "53b60e7b-ec79-4194-a3f6-30d0fda40d08",
   "metadata": {},
   "outputs": [
    {
     "name": "stdout",
     "output_type": "stream",
     "text": [
      "S.No.                  0\n",
      "Name                   0\n",
      "Mar Cap - Crore        9\n",
      "Sales Qtr - Crore      0\n",
      "Unnamed: 4           394\n",
      "dtype: int64\n"
     ]
    },
    {
     "name": "stderr",
     "output_type": "stream",
     "text": [
      "C:\\Users\\91850\\AppData\\Local\\Temp\\ipykernel_43384\\238338075.py:2: FutureWarning: A value is trying to be set on a copy of a DataFrame or Series through chained assignment using an inplace method.\n",
      "The behavior will change in pandas 3.0. This inplace method will never work because the intermediate object on which we are setting values always behaves as a copy.\n",
      "\n",
      "For example, when doing 'df[col].method(value, inplace=True)', try using 'df.method({col: value}, inplace=True)' or df[col] = df[col].method(value) instead, to perform the operation inplace on the original object.\n",
      "\n",
      "\n",
      "  df['Sales Qtr - Crore'].fillna(0, inplace=True)\n"
     ]
    }
   ],
   "source": [
    "# Fill missing values with zero or handle them as needed\n",
    "df['Sales Qtr - Crore'].fillna(0, inplace=True)\n",
    "\n",
    "# Convert 'Sales Qtr - Crore' to numeric if necessary\n",
    "df['Sales Qtr - Crore'] = pd.to_numeric(df['Sales Qtr - Crore'], errors='coerce')\n",
    "\n",
    "# Check for any remaining missing values\n",
    "print(df.isnull().sum())\n"
   ]
  },
  {
   "cell_type": "markdown",
   "id": "88dbe245-38bb-419a-9f5e-0f7295373811",
   "metadata": {},
   "source": [
    "# Calculate Key Metrics"
   ]
  },
  {
   "cell_type": "markdown",
   "id": "50a8fa27-7aa2-482b-bbc1-9172de34e0d4",
   "metadata": {},
   "source": [
    "# Sales Efficiency"
   ]
  },
  {
   "cell_type": "code",
   "execution_count": 7,
   "id": "3c785297-ff0b-4798-b936-b3659cda89bb",
   "metadata": {},
   "outputs": [],
   "source": [
    "# Calculate Sales Efficiency\n",
    "df['Sales Efficiency'] = df['Sales Qtr - Crore'] / df['Mar Cap - Crore']\n"
   ]
  },
  {
   "cell_type": "code",
   "execution_count": 8,
   "id": "fb8a1a22-af02-45ce-8a3f-5c3dcdf8b12f",
   "metadata": {},
   "outputs": [
    {
     "data": {
      "text/plain": [
       "0      0.171073\n",
       "1      0.054823\n",
       "2      0.042615\n",
       "3      0.030444\n",
       "4      0.058172\n",
       "         ...   \n",
       "483    0.260819\n",
       "484    0.082369\n",
       "485    0.169139\n",
       "486    0.941559\n",
       "487         NaN\n",
       "Name: Sales Efficiency, Length: 488, dtype: float64"
      ]
     },
     "execution_count": 8,
     "metadata": {},
     "output_type": "execute_result"
    }
   ],
   "source": [
    "df['Sales Efficiency'] "
   ]
  },
  {
   "cell_type": "markdown",
   "id": "0f75c52f-a8e4-4aaf-abd4-1ab9b0e9afe0",
   "metadata": {},
   "source": [
    "# Correlation Analysis"
   ]
  },
  {
   "cell_type": "code",
   "execution_count": 9,
   "id": "2c7fea0d-8173-4cd6-a80a-0b8390fd62c4",
   "metadata": {},
   "outputs": [
    {
     "name": "stdout",
     "output_type": "stream",
     "text": [
      "Correlation Matrix:\n",
      "                   Mar Cap - Crore  Sales Qtr - Crore\n",
      "Mar Cap - Crore           1.000000           0.619821\n",
      "Sales Qtr - Crore         0.619821           1.000000\n"
     ]
    }
   ],
   "source": [
    "# Calculate correlation between Market Cap and Sales\n",
    "correlation = df[['Mar Cap - Crore', 'Sales Qtr - Crore']].corr()\n",
    "print(\"Correlation Matrix:\")\n",
    "print(correlation)\n"
   ]
  },
  {
   "cell_type": "markdown",
   "id": "380582a5-ed27-4cff-9df0-033455239549",
   "metadata": {},
   "source": [
    "#  Visualization"
   ]
  },
  {
   "cell_type": "markdown",
   "id": "f588dac1-2fec-4a52-a256-b5e3b165df4f",
   "metadata": {},
   "source": [
    "# Scatter Plot of Market Cap vs. Sales"
   ]
  },
  {
   "cell_type": "code",
   "execution_count": 10,
   "id": "d5856a14-0290-4323-8803-4c808f15de6e",
   "metadata": {},
   "outputs": [
    {
     "data": {
      "image/png": "[encoded data removed]",
      "text/plain": [
       "<Figure size 1000x600 with 1 Axes>"
      ]
     },
     "metadata": {},
     "output_type": "display_data"
    }
   ],
   "source": [
    "plt.figure(figsize=(10, 6))\n",
    "sns.scatterplot(x='Mar Cap - Crore', y='Sales Qtr - Crore', data=df)\n",
    "plt.title('Market Capitalization vs. Quarterly Sales')\n",
    "plt.xlabel('Market Capitalization (Crore)')\n",
    "plt.ylabel('Quarterly Sales (Crore)')\n",
    "plt.xscale('log')  # Optional: Use log scale for better visualization\n",
    "plt.yscale('log')  # Optional: Use log scale for better visualization\n",
    "plt.show()\n"
   ]
  },
  {
   "cell_type": "markdown",
   "id": "6eaacace-87fb-4c47-8931-8c67ecb0f5e0",
   "metadata": {},
   "source": [
    "# Sales Efficiency Distribution"
   ]
  },
  {
   "cell_type": "code",
   "execution_count": 20,
   "id": "c18a2013-1ff2-4cdf-b568-c69bd66fd865",
   "metadata": {},
   "outputs": [
    {
     "data": {
      "image/png": "[encoded data removed]",
      "text/plain": [
       "<Figure size 1000x600 with 1 Axes>"
      ]
     },
     "metadata": {},
     "output_type": "display_data"
    }
   ],
   "source": [
    "plt.figure(figsize=(10, 6))\r\n",
    "sns.histplot(df['Sales Efficiency'], bins=30, kde=True)\r\n",
    "plt.title('Distribution of Sales Efficiency')\r\n",
    "plt.xlabel('Sales Efficiency')\r\n",
    "plt.ylabel('Frequency')\r\n",
    "plt.show()\r\n"
   ]
  },
  {
   "cell_type": "markdown",
   "id": "796e0b46-5e1d-4475-b714-91f7d909fb90",
   "metadata": {},
   "source": [
    "# Top and Bottom Companies"
   ]
  },
  {
   "cell_type": "markdown",
   "id": "8be1a45a-fc46-49a4-8f28-1ec930a8c8bc",
   "metadata": {},
   "source": [
    "# Top 5 by Market Cap"
   ]
  },
  {
   "cell_type": "code",
   "execution_count": 11,
   "id": "a865ce6c-f5cc-473a-ac8c-fe90d7468186",
   "metadata": {},
   "outputs": [
    {
     "name": "stdout",
     "output_type": "stream",
     "text": [
      "Top 5 Companies by Market Capitalization:\n",
      "             Name  Mar Cap - Crore\n",
      "0  Reliance Inds.        583436.72\n",
      "1             TCS        563709.84\n",
      "2       HDFC Bank        482953.59\n",
      "3             ITC        320985.27\n",
      "4         H D F C        289497.37\n"
     ]
    }
   ],
   "source": [
    "top_market_cap = df.nlargest(5, 'Mar Cap - Crore')\n",
    "print(\"Top 5 Companies by Market Capitalization:\")\n",
    "print(top_market_cap[['Name', 'Mar Cap - Crore']])\n"
   ]
  },
  {
   "cell_type": "markdown",
   "id": "2e4ee29f-62a7-4c07-aa3e-0b53b6a1751d",
   "metadata": {},
   "source": [
    "# Top 5 by Sales"
   ]
  },
  {
   "cell_type": "code",
   "execution_count": 12,
   "id": "eefb93e5-bfc6-4ee4-9890-6d24633e154e",
   "metadata": {},
   "outputs": [
    {
     "name": "stdout",
     "output_type": "stream",
     "text": [
      "Top 5 Companies by Quarterly Sales:\n",
      "              Name  Sales Qtr - Crore\n",
      "14         I O C L          110666.93\n",
      "0   Reliance Inds.           99810.00\n",
      "23     Tata Motors           74156.07\n",
      "27         B P C L           60616.36\n",
      "54         H P C L           57474.25\n"
     ]
    }
   ],
   "source": [
    "top_sales = df.nlargest(5, 'Sales Qtr - Crore')\n",
    "print(\"Top 5 Companies by Quarterly Sales:\")\n",
    "print(top_sales[['Name', 'Sales Qtr - Crore']])\n"
   ]
  },
  {
   "cell_type": "markdown",
   "id": "8d419563-7219-40d6-8f8d-b25c9c6ad967",
   "metadata": {},
   "source": [
    "# Top 5 by Sales Efficiency"
   ]
  },
  {
   "cell_type": "code",
   "execution_count": 13,
   "id": "68f1887f-277b-40fe-b8ce-202b781f3cc9",
   "metadata": {},
   "outputs": [
    {
     "name": "stdout",
     "output_type": "stream",
     "text": [
      "Top 5 Companies by Sales Efficiency:\n",
      "                 Name  Sales Efficiency\n",
      "320   Redington India          1.989031\n",
      "122    Rajesh Exports          1.757986\n",
      "334           C P C L          1.582066\n",
      "441  Corporation Bank          1.180653\n",
      "444     Oriental Bank          1.159876\n"
     ]
    }
   ],
   "source": [
    "top_sales_efficiency = df.nlargest(5, 'Sales Efficiency')\n",
    "print(\"Top 5 Companies by Sales Efficiency:\")\n",
    "print(top_sales_efficiency[['Name', 'Sales Efficiency']])\n"
   ]
  },
  {
   "cell_type": "markdown",
   "id": "89eca4b0-3783-4705-a715-19ac808eacc2",
   "metadata": {},
   "source": [
    "# Check for Missing or Infinite Values"
   ]
  },
  {
   "cell_type": "code",
   "execution_count": 16,
   "id": "ffcddf68-736e-46b4-86e3-069d555b0ef1",
   "metadata": {},
   "outputs": [
    {
     "name": "stdout",
     "output_type": "stream",
     "text": [
      "const              0\n",
      "Mar Cap - Crore    9\n",
      "dtype: int64\n",
      "0\n",
      "const              0\n",
      "Mar Cap - Crore    0\n",
      "dtype: int64\n",
      "0\n"
     ]
    }
   ],
   "source": [
    "# Check for missing values in X and y\n",
    "print(X.isnull().sum())\n",
    "print(y.isnull().sum())\n",
    "\n",
    "# Check for infinite values\n",
    "print((X == float('inf')).sum())\n",
    "print((y == float('inf')).sum())\n"
   ]
  },
  {
   "cell_type": "markdown",
   "id": "af1b2267-6c2d-48b9-820e-060a8c4c1f51",
   "metadata": {},
   "source": [
    "#  Handle Missing or Infinite Values"
   ]
  },
  {
   "cell_type": "code",
   "execution_count": 17,
   "id": "d8f5c387-094c-4644-a321-c90704374da5",
   "metadata": {},
   "outputs": [
    {
     "name": "stdout",
     "output_type": "stream",
     "text": [
      "const              0\n",
      "Mar Cap - Crore    0\n",
      "dtype: int64\n",
      "0\n"
     ]
    }
   ],
   "source": [
    "# Remove rows with missing values in X or y\n",
    "df_clean = df.dropna(subset=['Mar Cap - Crore', 'Sales Qtr - Crore'])\n",
    "\n",
    "# Re-define X and y\n",
    "X = df_clean['Mar Cap - Crore']\n",
    "y = df_clean['Sales Qtr - Crore']\n",
    "X = sm.add_constant(X)  # Add a constant term to the predictor\n",
    "\n",
    "# Check again for missing values\n",
    "print(X.isnull().sum())\n",
    "print(y.isnull().sum())\n"
   ]
  },
  {
   "cell_type": "markdown",
   "id": "8443d65b-2eaa-42c2-9899-c1ccea58f474",
   "metadata": {},
   "source": [
    "# Remove Infinite Values\n"
   ]
  },
  {
   "cell_type": "code",
   "execution_count": 18,
   "id": "29d56c9c-f3e9-4e34-a666-4f8fdf9b9d65",
   "metadata": {},
   "outputs": [
    {
     "name": "stdout",
     "output_type": "stream",
     "text": [
      "const              0\n",
      "Mar Cap - Crore    0\n",
      "dtype: int64\n",
      "0\n"
     ]
    },
    {
     "name": "stderr",
     "output_type": "stream",
     "text": [
      "C:\\Users\\91850\\AppData\\Local\\Temp\\ipykernel_43384\\1404751118.py:2: SettingWithCopyWarning: \n",
      "A value is trying to be set on a copy of a slice from a DataFrame\n",
      "\n",
      "See the caveats in the documentation: https://pandas.pydata.org/pandas-docs/stable/user_guide/indexing.html#returning-a-view-versus-a-copy\n",
      "  df_clean.replace([float('inf'), -float('inf')], pd.NA, inplace=True)\n",
      "C:\\Users\\91850\\AppData\\Local\\Temp\\ipykernel_43384\\1404751118.py:3: SettingWithCopyWarning: \n",
      "A value is trying to be set on a copy of a slice from a DataFrame\n",
      "\n",
      "See the caveats in the documentation: https://pandas.pydata.org/pandas-docs/stable/user_guide/indexing.html#returning-a-view-versus-a-copy\n",
      "  df_clean.dropna(subset=['Mar Cap - Crore', 'Sales Qtr - Crore'], inplace=True)\n"
     ]
    }
   ],
   "source": [
    "# Replace infinite values with NaN and then drop them\n",
    "df_clean.replace([float('inf'), -float('inf')], pd.NA, inplace=True)\n",
    "df_clean.dropna(subset=['Mar Cap - Crore', 'Sales Qtr - Crore'], inplace=True)\n",
    "\n",
    "# Re-define X and y\n",
    "X = df_clean['Mar Cap - Crore']\n",
    "y = df_clean['Sales Qtr - Crore']\n",
    "X = sm.add_constant(X)  # Add a constant term to the predictor\n",
    "\n",
    "# Check again for missing values\n",
    "print(X.isnull().sum())\n",
    "print(y.isnull().sum())\n"
   ]
  },
  {
   "cell_type": "markdown",
   "id": "ca2487b8-965c-4051-91d5-b3f2977717f1",
   "metadata": {},
   "source": [
    "# Regression Analysis"
   ]
  },
  {
   "cell_type": "code",
   "execution_count": 19,
   "id": "b64cf618-6ee0-455c-b14e-66765d0ad74e",
   "metadata": {},
   "outputs": [
    {
     "name": "stdout",
     "output_type": "stream",
     "text": [
      "                            OLS Regression Results                            \n",
      "==============================================================================\n",
      "Dep. Variable:      Sales Qtr - Crore   R-squared:                       0.384\n",
      "Model:                            OLS   Adj. R-squared:                  0.383\n",
      "Method:                 Least Squares   F-statistic:                     297.6\n",
      "Date:                Thu, 22 Aug 2024   Prob (F-statistic):           3.58e-52\n",
      "Time:                        19:17:23   Log-Likelihood:                -4968.0\n",
      "No. Observations:                 479   AIC:                             9940.\n",
      "Df Residuals:                     477   BIC:                             9948.\n",
      "Df Model:                           1                                         \n",
      "Covariance Type:            nonrobust                                         \n",
      "===================================================================================\n",
      "                      coef    std err          t      P>|t|      [0.025      0.975]\n",
      "-----------------------------------------------------------------------------------\n",
      "const             467.7729    391.337      1.195      0.233    -301.185    1236.731\n",
      "Mar Cap - Crore     0.1028      0.006     17.250      0.000       0.091       0.114\n",
      "==============================================================================\n",
      "Omnibus:                      610.354   Durbin-Watson:                   1.717\n",
      "Prob(Omnibus):                  0.000   Jarque-Bera (JB):            73999.849\n",
      "Skew:                           6.174   Prob(JB):                         0.00\n",
      "Kurtosis:                      62.626   Cond. No.                     7.26e+04\n",
      "==============================================================================\n",
      "\n",
      "Notes:\n",
      "[1] Standard Errors assume that the covariance matrix of the errors is correctly specified.\n",
      "[2] The condition number is large, 7.26e+04. This might indicate that there are\n",
      "strong multicollinearity or other numerical problems.\n"
     ]
    }
   ],
   "source": [
    "# Fit the regression model\n",
    "model = sm.OLS(y, X).fit()\n",
    "\n",
    "# Print the regression results\n",
    "print(model.summary())\n",
    "\n"
   ]
  }
 ],
 "metadata": {
  "kernelspec": {
   "display_name": "Python 3 (ipykernel)",
   "language": "python",
   "name": "python3"
  },
  "language_info": {
   "codemirror_mode": {
    "name": "ipython",
    "version": 3
   },
   "file_extension": ".py",
   "mimetype": "text/x-python",
   "name": "python",
   "nbconvert_exporter": "python",
   "pygments_lexer": "ipython3",
   "version": "3.10.11"
  }
 },
 "nbformat": 4,
 "nbformat_minor": 5
}
